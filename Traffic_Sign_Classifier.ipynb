{
 "cells": [
  {
   "cell_type": "markdown",
   "metadata": {},
   "source": [
    "# Project: Traffic Sign Recognition Classifier\n",
    "\n",
    "### Self-Driving Car Engineer Nanodegree\n",
    "![alt text](./docs/download.png)\n",
    "\n",
    "\n",
    "\n"
   ]
  },
  {
   "cell_type": "markdown",
   "metadata": {},
   "source": [
    "----\n",
    "## Personal Thoughts\n",
    "\n",
    "I am excited to work on this project. This is a wonderful opportunity for me to learn about the state-of-the-art technology, Deep Learning.\n",
    "\n",
    "To tackle this project, I have been studying rigorously during my winter break. Well, the \"break\" they said. I finally understood what is Neural Network, Convolution Neural Networks, Back-propagation and few techniques to \"fine-tune\" my network including Adam Gradient Descent, Drop-out, Batch Normalization and Inception. While I understand that this is just a first step to the door, I am gratefully confident about the outcome of this class. \n",
    "\n",
    "One important thing to note though: I might be wrong, but I feel that we do not have a quantitative model to validate the performance of CNN on real life. This is critical because human lives will be dependent on these CNNs, in term of autonomous vehicles. I hope I am wrong or we will figure it out soon! By then, it is hard to prove \"how safe is safe\" because I think 99% is not safe.\n",
    "\n",
    "\n",
    "Now, let's dive into my steps of how to train the computer regonize Traffic Sign itself. Teehee :d"
   ]
  },
  {
   "cell_type": "markdown",
   "metadata": {},
   "source": [
    "---\n",
    "## Step 0: Load The Data\n",
    "\n",
    "I used 'pickle' to load the data. There are training set and test set in dataset. In a perfect world, DO NOT TOUCH test set until you believe that your network is good enough. \n",
    "\n",
    "The way I validated my network is to use cross-validation on minibatches. In particular, for every epoch, I divided my training set into 'BATCH_SIZE' (256) mini-batches. I used 20% of those batches as validation batches. I will go into detail about this in my 'network architechture'."
   ]
  },
  {
   "cell_type": "code",
   "execution_count": 1,
   "metadata": {
    "collapsed": false,
    "scrolled": true
   },
   "outputs": [],
   "source": [
    "# Load pickled data\n",
    "import pickle\n",
    "# TODO: Fill this in based on where you saved the training and testing data\n",
    "\n",
    "training_file = '../data/train.p'\n",
    "testing_file = '../data/test.p'\n",
    "\n",
    "with open(training_file, mode='rb') as f:\n",
    "    train = pickle.load(f)\n",
    "    \n",
    "with open(testing_file, mode='rb') as f:\n",
    "    test = pickle.load(f)\n",
    "    \n",
    "X_train, y_train = train['features'], train['labels']\n",
    "X_test, y_test = test['features'], test['labels']"
   ]
  },
  {
   "cell_type": "markdown",
   "metadata": {},
   "source": [
    "---\n",
    "\n",
    "## Step 1: Dataset Summary & Exploration\n",
    "\n",
    "The pickled data is a dictionary with 4 key/value pairs:\n",
    "\n",
    "- `'features'` is a 4D array containing raw pixel data of the traffic sign images, (num examples, width, height, channels).\n",
    "- `'labels'` is a 2D array containing the label/class id of the traffic sign. The file `signnames.csv` contains id -> name mappings for each id.\n",
    "- `'sizes'` is a list containing tuples, (width, height) representing the the original width and height the image.\n",
    "- `'coords'` is a list containing tuples, (x1, y1, x2, y2) representing coordinates of a bounding box around the sign in the image. **THESE COORDINATES ASSUME THE ORIGINAL IMAGE. THE PICKLED DATA CONTAINS RESIZED VERSIONS (32 by 32) OF THESE IMAGES**\n",
    "\n"
   ]
  },
  {
   "cell_type": "code",
   "execution_count": 2,
   "metadata": {
    "collapsed": false,
    "scrolled": true
   },
   "outputs": [
    {
     "name": "stdout",
     "output_type": "stream",
     "text": [
      "Number of training examples = 39209\n",
      "Number of testing examples = 12630\n",
      "Image data shape = (32, 32, 3)\n",
      "Number of classes = 43\n"
     ]
    }
   ],
   "source": [
    "### Replace each question mark with the appropriate value.\n",
    "n_train = X_train.shape[0]\n",
    "n_test = X_test.shape[0]\n",
    "image_shape = (X_train.shape[1], X_train.shape[2], X_train.shape[3])\n",
    "n_classes = len(set(y_train))\n",
    "print(\"Number of training examples =\", n_train)\n",
    "print(\"Number of testing examples =\", n_test)\n",
    "print(\"Image data shape =\", image_shape)\n",
    "print(\"Number of classes =\", n_classes)"
   ]
  },
  {
   "cell_type": "markdown",
   "metadata": {},
   "source": [
    "The [Matplotlib](http://matplotlib.org/) [examples](http://matplotlib.org/examples/index.html) and [gallery](http://matplotlib.org/gallery.html) pages are a great resource for doing visualizations in Python."
   ]
  },
  {
   "cell_type": "code",
   "execution_count": 3,
   "metadata": {
    "collapsed": true,
    "scrolled": true
   },
   "outputs": [],
   "source": [
    "### Data exploration visualization goes here.\n",
    "### Feel free to use as many code cells as needed.\n",
    "import matplotlib.pyplot as plt\n",
    "# Visualizations will be shown in the notebook.\n",
    "%matplotlib inline"
   ]
  },
  {
   "cell_type": "markdown",
   "metadata": {},
   "source": [
    "## Display few Traffic Sign Samples"
   ]
  },
  {
   "cell_type": "code",
   "execution_count": 4,
   "metadata": {
    "collapsed": false,
    "scrolled": true
   },
   "outputs": [
    {
     "data": {
      "text/plain": [
       "(<matplotlib.axes._subplots.AxesSubplot at 0x7fa4ce867a20>,\n",
       " <matplotlib.image.AxesImage at 0x7fa4ce7fe588>)"
      ]
     },
     "execution_count": 4,
     "metadata": {},
     "output_type": "execute_result"
    },
    {
     "data": {
      "image/png": "[encoded data removed]",
      "text/plain": [
       "<matplotlib.figure.Figure at 0x7fa4ceb4bc50>"
      ]
     },
     "metadata": {},
     "output_type": "display_data"
    }
   ],
   "source": [
    "plt.figure(1)\n",
    "plt.subplot(131), plt.imshow(X_train[1000])\n",
    "plt.subplot(132), plt.imshow(X_train[26000])\n",
    "plt.subplot(133), plt.imshow(X_train[22700])"
   ]
  },
  {
   "cell_type": "markdown",
   "metadata": {},
   "source": [
    "----\n",
    "\n",
    "## Step 2: Design and Test a Model Architecture\n",
    "\n",
    "Design and implement a deep learning model that learns to recognize traffic signs. Train and test your model on the [German Traffic Sign Dataset](http://benchmark.ini.rub.de/?section=gtsrb&subsection=dataset).\n",
    "\n",
    "My proposed pipeline is:\n",
    " - Perform data augmentation (rotating, blurring, shifting, shearing, changing brightness)\n",
    " - Build CNN (inspired by VGG-16). However, I scaled down the parameters since our size image is : 32x32x3.\n",
    " - Train the CNN.\n",
    " - Test on new images.\n",
    " "
   ]
  },
  {
   "cell_type": "markdown",
   "metadata": {},
   "source": [
    "### Implementation\n",
    "\n",
    "Use the code cell (or multiple code cells, if necessary) to implement the first step of your project. Once you have completed your implementation and are satisfied with the results, be sure to thoroughly answer the questions that follow."
   ]
  },
  {
   "cell_type": "markdown",
   "metadata": {},
   "source": [
    "#### 1. Data Pre-Processing and Data Augmentation"
   ]
  },
  {
   "cell_type": "code",
   "execution_count": 5,
   "metadata": {
    "collapsed": false,
    "scrolled": true
   },
   "outputs": [
    {
     "name": "stdout",
     "output_type": "stream",
     "text": [
      "Extra data has been already created.\n"
     ]
    }
   ],
   "source": [
    "# Perform Data Augmentation\n",
    "import utils.data_processor as util\n",
    "from pathlib import Path\n",
    "import csv\n",
    "\n",
    "my_file = Path(\"../train1.p\")\n",
    "\n",
    "if not my_file.is_file():\n",
    "    # It might take some times. Please be patient\n",
    "    X_train, y_train = util.augment_data(X_train, y_train)\n",
    "    # Save new data\n",
    "    util.save_data({'features': X_train, 'labels': y_train}, '../extended_training_data.p')\n",
    "else:\n",
    "    print(\"Extra data has been already created.\")\n",
    "    \n",
    "# Map ClassID to traffic sign names\n",
    "signs = []\n",
    "with open('signnames.csv', 'r') as csvfile:\n",
    "    signnames = csv.reader(csvfile, delimiter=',')\n",
    "    next(signnames,None)\n",
    "    for row in signnames:\n",
    "        signs.append(row[1])\n",
    "    csvfile.close()\n"
   ]
  },
  {
   "cell_type": "markdown",
   "metadata": {},
   "source": [
    "#### 2. Build and Traing The CNN"
   ]
  },
  {
   "cell_type": "code",
   "execution_count": 6,
   "metadata": {
    "collapsed": false,
    "scrolled": true
   },
   "outputs": [],
   "source": [
    "from traffic_net import TrafficNet\n",
    "\n",
    "# Create A New Convolutional Neural Nets\n",
    "conv_net = TrafficNet()"
   ]
  },
  {
   "cell_type": "code",
   "execution_count": 7,
   "metadata": {
    "collapsed": false,
    "scrolled": true
   },
   "outputs": [
    {
     "name": "stdout",
     "output_type": "stream",
     "text": [
      "Start training...\n",
      "Restored Model Successfully.\n",
      "EPOCH 1: LR: 0.00002339 Validation loss: 0.00003 Validation Accuracy = 0.998\n",
      "Reached accuracy requirement. Training completed.\n",
      "Train Model saved\n",
      "\n",
      "Optimization Finished!! Training time: 00h:00m:06s\n"
     ]
    }
   ],
   "source": [
    "# HYPER-PARAMETERS\n",
    "EPOCHS = 5\n",
    "LEARNING_RATE = 0.001\n",
    "BATCH_SIZE = 256\n",
    "KEEP_PROP = 0.65\n",
    "ACCURATE_THRESHOLD = 0.991\n",
    "\n",
    "train = util.load_data('../data/train.p')\n",
    "X_train, y_train = train['features'], train['labels']\n",
    "\n",
    "# Pre-process data\n",
    "features = X_train/255                                       # scale pixel values to [0, 1]\n",
    "# labels  = (y_train - len(set(y_train))) / len(set(y_train))  # scale label values to [-1, 1]\n",
    "\n",
    "# Train the Traffic Sign CNN on training set \n",
    "conv_net.train( features, y_train,\n",
    "                save_loc='./model/vgg.chkpt',\n",
    "                epochs=EPOCHS, \n",
    "                learn_rate=LEARNING_RATE, \n",
    "                batch_size=BATCH_SIZE, \n",
    "                keep_prob=KEEP_PROP, \n",
    "                acc_threshold=ACCURATE_THRESHOLD)"
   ]
  },
  {
   "cell_type": "markdown",
   "metadata": {},
   "source": [
    "#### 3. Test the CNN"
   ]
  },
  {
   "cell_type": "code",
   "execution_count": 9,
   "metadata": {
    "collapsed": false,
    "scrolled": false
   },
   "outputs": [
    {
     "name": "stdout",
     "output_type": "stream",
     "text": [
      "Start Testing...\n",
      "Restored Model Successfully.\n",
      "Testing on 12630 samples\n",
      "Test Accuracy = 0.9561\n",
      "\n",
      "Finished Testing. Model is not saved\n"
     ]
    }
   ],
   "source": [
    "test = util.load_data('../data/test.p')\n",
    "X_test, y_test = test['features'], test['labels']\n",
    "X_test = X_test/255\n",
    "\n",
    "#  Test the Traffic_Sign_CNN using test set\n",
    "conv_net.test(X_test, y_test, model='./model/vgg.chkpt', batch_size=256)\n"
   ]
  },
  {
   "cell_type": "markdown",
   "metadata": {},
   "source": [
    "**4. Plot the Result**"
   ]
  },
  {
   "cell_type": "code",
   "execution_count": 11,
   "metadata": {
    "collapsed": false,
    "scrolled": true
   },
   "outputs": [
    {
     "name": "stdout",
     "output_type": "stream",
     "text": [
      "Start Predicting...\n",
      "(12630, 43)\n",
      "Correct predictions:  95.54235946159937 %\n",
      "Normalized confusion matrix\n"
     ]
    },
    {
     "data": {
      "image/png": "[encoded data removed]",
      "text/plain": [
       "<matplotlib.figure.Figure at 0x7fa4c6229f98>"
      ]
     },
     "metadata": {},
     "output_type": "display_data"
    }
   ],
   "source": [
    "correct_predictions = conv_net.score(X_test, y_test, model='./model/vgg.chkpt', plot=True, normalize=True)"
   ]
  },
  {
   "cell_type": "markdown",
   "metadata": {},
   "source": [
    "### Question 1 \n",
    "\n",
    "_Describe how you preprocessed the data. Why did you choose that technique?_"
   ]
  },
  {
   "cell_type": "markdown",
   "metadata": {},
   "source": [
    "**Answer:**"
   ]
  },
  {
   "cell_type": "markdown",
   "metadata": {},
   "source": [
    "I have scaled images from (0->255) to (0->1) and applied data agumentation as my main pre-process method. I have considered using grayscale and zero-mean. However, the image is look weird when I plotted it so I decided to keep the original image (32x32x3).\n",
    "\n",
    "All methods related to process data is stored in (utils/data_processor.py). I will go into detail on how I process my data as:\n",
    "\n",
    "* Why do I think data augmentation important?\n",
    "  \n",
    "* How did I augment the data set?\n",
    "  \n",
    "* Plot the before/after data set distribution.\n",
    "  \n"
   ]
  },
  {
   "cell_type": "markdown",
   "metadata": {},
   "source": [
    " ### Why do I think data agumentation is important?\n",
    "\n",
    "Short answer is data set distribution. Each traffic sign has different amount of data. If the '20KM' traffic sign has more data than '70KM' sign, the network will be more biased toward the '20KM' sign.\n",
    "\n",
    "Let's look at the data distrubution of German Traffic Sign Data Set"
   ]
  },
  {
   "cell_type": "code",
   "execution_count": 12,
   "metadata": {
    "collapsed": false,
    "scrolled": true
   },
   "outputs": [
    {
     "name": "stdout",
     "output_type": "stream",
     "text": [
      "39209 samples\n"
     ]
    },
    {
     "data": {
      "text/plain": [
       "<matplotlib.text.Text at 0x7fa4d122f128>"
      ]
     },
     "execution_count": 12,
     "metadata": {},
     "output_type": "execute_result"
    },
    {
     "data": {
      "image/png": "[encoded data removed]",
      "text/plain": [
       "<matplotlib.figure.Figure at 0x7fa4d1de0e10>"
      ]
     },
     "metadata": {},
     "output_type": "display_data"
    }
   ],
   "source": [
    "import numpy as np\n",
    "# Create a barchart of frequencies\n",
    "item, count = np.unique(y_train, return_counts=True)\n",
    "freq = np.array((item, count)).T\n",
    "print('%d samples' % (y_train.shape[0]))\n",
    "plt.bar(item, count, alpha=0.2)\n",
    "plt.title('Unequally Distributed Traffic Sign Data')"
   ]
  },
  {
   "cell_type": "markdown",
   "metadata": {
    "collapsed": false
   },
   "source": [
    "### How did I perform Data Augmentation?\n",
    "\n",
    "    1. Define few image transformation methods (rotation, shift, shear, blurr , change gamma).\n",
    "    2. Define a method (random_transform) to randomly apply multiple transformation on one image\n",
    "    3. Define a augment_data method to perform data augmentation on original data set\n",
    "\n",
    "Since the traffic sign samples is not distrubted equally, this could affect the CNN's performance. The network would be biased toward classes with more samples. **Data Augmentation** generates additional data on each traffic sign. For example, if the average sample for each classes is 1000 images. Any class has less than 300 images need to generate more data. \n",
    "\n",
    "Data Augmentation includes but not limited to *blurring, rotating, shearing, translating, changing brighness* on original images.\n",
    "For image transformation, I found this documentation is helpful: http://docs.opencv.org/trunk/da/d6e/tutorial_py_geometric_transformations.html\n",
    "\n",
    "This library seems promising. However, I want to implement the code once before using it:\n",
    "https://github.com/aleju/imgaug"
   ]
  },
  {
   "cell_type": "markdown",
   "metadata": {},
   "source": [
    "---\n",
    "### 1. Image Transformation Methods\n",
    "\n",
    "We need to write some methods to transform orginal image. Below are my proposed methods: translation, rotation, affirm transformation, blur, brighten, darken an image.\n",
    "\n",
    "All the methods will generate new image at different random levels (using numpy.random)"
   ]
  },
  {
   "cell_type": "code",
   "execution_count": 13,
   "metadata": {
    "collapsed": false,
    "scrolled": true
   },
   "outputs": [],
   "source": [
    "import cv2\n",
    "import numpy as np\n",
    "\n",
    "def translate(img):\n",
    "    \"Shift orginal image around within image size\"\n",
    "    x = img.shape[0]\n",
    "    y = img.shape[1]\n",
    "    x_shift = np.random.uniform(-0.3 * x, 0.3 * x)\n",
    "    y_shift = np.random.uniform(-0.3 * y, 0.3 * y)\n",
    "    shift_matrix = np.float32([[1, 0, x_shift], [0, 1, y_shift]])\n",
    "    shift_img = cv2.warpAffine(img, shift_matrix, (x, y))\n",
    "    return shift_img\n",
    "\n",
    "def rotate(img):\n",
    "    \" Rotate original image at random rotation angle from -90 degree to +90 degree\"\n",
    "    row, col, channel = img.shape\n",
    "    angle = np.random.uniform(-90, 90)\n",
    "    rotation_point = (row / 2, col / 2)\n",
    "    rotation_matrix = cv2.getRotationMatrix2D(rotation_point, angle, 1)\n",
    "    rotated_img = cv2.warpAffine(img, rotation_matrix, (col, row))\n",
    "    return rotated_img\n",
    "\n",
    "def shear(img):\n",
    "    \" Affirm Transformation orignal image\"\n",
    "    \n",
    "    x, y, channel = img.shape\n",
    "    shear = np.random.randint(5,15)\n",
    "    pts1 = np.array([[5, 5], [20, 5], [5, 20]]).astype('float32')\n",
    "    pt1 = 5 + shear * np.random.uniform() - shear / 2\n",
    "    pt2 = 20 + shear * np.random.uniform() - shear / 2\n",
    "    pts2 = np.float32([[pt1, 5], [pt2, pt1], [5, pt2]])\n",
    "    M = cv2.getAffineTransform(pts1, pts2)\n",
    "    result = cv2.warpAffine(img, M, (y, x))\n",
    "    return result\n",
    "\n",
    "def blur(img):\n",
    "    r_int = np.random.randint(0, 2)\n",
    "    odd_size = 2 * r_int + 1\n",
    "    return cv2.GaussianBlur(img, (odd_size, odd_size), 0)\n",
    "\n",
    "\n",
    "def gamma(img):\n",
    "    gamma = np.random.uniform(0.2, 1.5)\n",
    "    invGamma = 1.0 / gamma\n",
    "    table = np.array([((i / 255.0) ** invGamma) * 255 for i in np.arange(0, 256)]).astype(\"uint8\")\n",
    "    new_img = cv2.LUT(img, table)\n",
    "    return new_img\n",
    "\n",
    "def pre_process(imgs):\n",
    "    imgs = imgs/255\n",
    "    return imgs\n",
    "\n",
    "def random_transform(img):\n",
    "    # There are total of 6 transformation\n",
    "    # I will create an boolean array of 6 elements [ 0 or 1]\n",
    "    a = np.random.randint(0, 2, [1, 5]).astype('bool')[0]\n",
    "    if a[0] == 1: img = translate(img)\n",
    "    if a[1] == 1: img = rotate(img)\n",
    "    if a[2] == 1: img = shear(img)\n",
    "    if a[3] == 1: img = blur(img)\n",
    "    if a[4] == 1: img = gamma(img)\n",
    "        \n",
    "    return img"
   ]
  },
  {
   "cell_type": "markdown",
   "metadata": {},
   "source": [
    "Let's test on a sample.\n",
    "\n",
    "I generate 5 images per transformation on a random image of training set."
   ]
  },
  {
   "cell_type": "code",
   "execution_count": null,
   "metadata": {
    "collapsed": false,
    "scrolled": true
   },
   "outputs": [],
   "source": [
    "i = 22700\n",
    "sample_1 = X_train[i]\n",
    "translated_img = []\n",
    "rotated_img = []\n",
    "shear_img = []\n",
    "blur_img = []\n",
    "noise_img = []\n",
    "gamma_img=[]\n",
    "for i in range(5):\n",
    "    translated_img.append(translate(sample_1))\n",
    "    rotated_img.append(rotate(sample_1))\n",
    "    shear_img.append(shear(sample_1))\n",
    "    blur_img.append(blur(sample_1))\n",
    "    gamma_img.append(gamma(sample_1))\n",
    "    \n",
    "row = 5\n",
    "col = 5\n",
    "plt.figure(2)\n",
    "plt.subplot(row, col,1), plt.title('Shift')\n",
    "plt.subplot(row, col,2), plt.title('Rotation')\n",
    "plt.subplot(row, col,3), plt.title('Shear')\n",
    "plt.subplot(row, col,4), plt.title('Blur')\n",
    "plt.subplot(row, col,5), plt.title('Gamma')\n",
    "for i in range(5):\n",
    "    pos = 5*i\n",
    "    plt.subplot(row, col,pos+1), plt.imshow(translated_img[i]),  plt.axis('off')\n",
    "    plt.subplot(row, col,pos+2), plt.imshow(rotated_img[i]), plt.axis('off') \n",
    "    plt.subplot(row, col,pos+3), plt.imshow(shear_img[i]), plt.axis('off')\n",
    "    plt.subplot(row, col,pos+4), plt.imshow(blur_img[i]), plt.axis('off')  \n",
    "    plt.subplot(row, col,pos+5), plt.imshow(gamma_img[i]), plt.axis('off')"
   ]
  },
  {
   "cell_type": "code",
   "execution_count": null,
   "metadata": {
    "collapsed": false,
    "scrolled": true
   },
   "outputs": [],
   "source": [
    "# Apply multiple transformations on one image\n",
    "for j in range(5):\n",
    "    pos=5*j\n",
    "    for i in range(8):\n",
    "        test = random_transform(sample_1)\n",
    "        plt.subplot(5, 7, pos+i+1), plt.imshow(test), plt.axis('off')"
   ]
  },
  {
   "cell_type": "markdown",
   "metadata": {},
   "source": [
    "## 2. Generate New Dataset\n",
    "\n",
    "We have a way to generate additional data now. However, each class in dataset should have different needed amount of additional data.\n",
    "\n",
    "In this step, I will:\n",
    "- Separate each class dataset.\n",
    "- Compare number of dataset to average dataset/class.\n",
    "- Based on that ration, I will decide to add more/less data into the current class"
   ]
  },
  {
   "cell_type": "markdown",
   "metadata": {},
   "source": [
    "---\n",
    "#### 2.1 Separate Traffic Sign Data Set:\n",
    "For every traffic sign, I decided to place in different arrays so that I could expand these later."
   ]
  },
  {
   "cell_type": "code",
   "execution_count": null,
   "metadata": {
    "collapsed": false,
    "scrolled": true
   },
   "outputs": [],
   "source": [
    "# Based on that average, we can estimate how many images a traffic sign need to have\n",
    "\n",
    "total_traffic_signs = len(set(y_train))\n",
    "# Calculate how many images in one traffic sign\n",
    "ts, imgs_per_sign = np.unique(y_train, return_counts=True)\n",
    "avg_per_sign = np.ceil(np.mean(imgs_per_sign)).astype('uint32')\n",
    "\n",
    "separated_data = []\n",
    "for traffic_sign in range(total_traffic_signs):\n",
    "    images_in_this_sign = X_train[y_train == traffic_sign,...]\n",
    "    separated_data.append(images_in_this_sign)"
   ]
  },
  {
   "cell_type": "markdown",
   "metadata": {},
   "source": [
    "----\n",
    "#### 2.2 Generate New Data Set on Each Traffic Sign:\n",
    "\n",
    "For each mini data set, I used a so-called 'scale-factor' to demtermine how more data should I add to the original dataset. 'Scale-factor' is calculated by (Current Images/Average Images per set)*2 . \n",
    "\n",
    "\n",
    "The more data, the merrier. \n",
    "\n",
    "**This step takes some time. Be patient :)**\n",
    "\n",
    "This method has been implemented in  ''utils.data_processor.py''\n"
   ]
  },
  {
   "cell_type": "code",
   "execution_count": null,
   "metadata": {
    "collapsed": false,
    "scrolled": true
   },
   "outputs": [],
   "source": [
    "# Second, for each dataset, I generate new images randomly based on current total images       \n",
    "expanded_data = np.array(np.zeros((1, 32,32,3)))\n",
    "expanded_labels = np.array([0])\n",
    "\n",
    "for sign, sign_images in enumerate(separated_data):\n",
    "    scale_factor = (2*(avg_per_sign/imgs_per_sign[sign])).astype('uint32')\n",
    "    new_images = []\n",
    "\n",
    "    # Generate new images  <---- Could apply list comprehension here\n",
    "    for img in sign_images:\n",
    "        for _ in range(scale_factor):\n",
    "            new_images.append(random_transform(img))\n",
    "\n",
    "    # Add old images and new images into 1 array    \n",
    "    if len(new_images) > 0:\n",
    "        sign_images = np.concatenate((sign_images, new_images),axis=0)\n",
    "    new_labels = np.full(len(sign_images),sign, dtype ='uint8')\n",
    "    # Insert new_images to current dataset\n",
    "    expanded_data = np.concatenate((expanded_data,sign_images), axis = 0)\n",
    "    expanded_labels = np.concatenate((expanded_labels, new_labels), axis=0)   \n",
    "\n",
    "print(expanded_data.shape)\n",
    "print(expanded_labels.shape)"
   ]
  },
  {
   "cell_type": "markdown",
   "metadata": {},
   "source": [
    "----\n",
    "### Compare Before and After Data Augmentation"
   ]
  },
  {
   "cell_type": "code",
   "execution_count": null,
   "metadata": {
    "collapsed": false,
    "scrolled": true
   },
   "outputs": [],
   "source": [
    "# Create a barchart of frequencies\n",
    "item, count = np.unique(y_train, return_counts=True)\n",
    "freq = np.array((item, count)).T\n",
    "\n",
    "print('Before Data Augmentation: %d samples' % (y_train.shape[0]))\n",
    "plt.figure(1)\n",
    "plt.bar(item, count, alpha=0.2)\n",
    "plt.title('Before Data Augmentation: Unequally Distributed Data')\n",
    "\n",
    "item2, count2 = np.unique(expanded_labels, return_counts=True)\n",
    "freq2 = np.array((item2, count2)).T\n",
    "\n",
    "print('After Data Augmentation: %d samples' % (expanded_labels.shape[0]))\n",
    "plt.figure(2)\n",
    "plt.bar(item2, count2, alpha=0.2)\n",
    "plt.title('After Data Augmentation: More Equally Distributed Data')"
   ]
  },
  {
   "cell_type": "markdown",
   "metadata": {},
   "source": [
    "### Question 2\n",
    "\n",
    "_Describe how you set up the training, validation and testing data for your model. **Optional**: If you generated additional data, how did you generate the data? Why did you generate the data? What are the differences in the new dataset (with generated data) from the original dataset?_"
   ]
  },
  {
   "cell_type": "markdown",
   "metadata": {},
   "source": [
    "**Answer:**"
   ]
  },
  {
   "cell_type": "markdown",
   "metadata": {
    "collapsed": true
   },
   "source": [
    "I think I have answered this in question 1, I have generated additional data for each traffic sign based on its current amount of data.\n",
    "\n",
    "I generated extra data because the orginal data set is not equally distributed. On my new data  set, I have applied multiple transformations (blur, rotate, shift, shear) on 1 image (image_processor.py/random_transform())."
   ]
  },
  {
   "cell_type": "markdown",
   "metadata": {},
   "source": [
    "### Question 3\n",
    "\n",
    "_What does your final architecture look like? (Type of model, layers, sizes, connectivity, etc.)  For reference on how to build a deep neural network using TensorFlow, see [Deep Neural Network in TensorFlow\n",
    "](https://classroom.udacity.com/nanodegrees/nd013/parts/fbf77062-5703-404e-b60c-95b78b2f3f9e/modules/6df7ae49-c61c-4bb2-a23e-6527e69209ec/lessons/b516a270-8600-4f93-a0a3-20dfeabe5da6/concepts/83a3a2a2-a9bd-4b7b-95b0-eb924ab14432) from the classroom._\n"
   ]
  },
  {
   "cell_type": "markdown",
   "metadata": {},
   "source": [
    "**Answer:**"
   ]
  },
  {
   "cell_type": "markdown",
   "metadata": {
    "collapsed": true
   },
   "source": [
    "Here is the visualization of how my Convolutional Neural Networks is look like."
   ]
  },
  {
   "cell_type": "code",
   "execution_count": null,
   "metadata": {
    "collapsed": true,
    "scrolled": true
   },
   "outputs": [],
   "source": [
    "# image here"
   ]
  },
  {
   "cell_type": "markdown",
   "metadata": {},
   "source": [
    "### Question 4\n",
    "\n",
    "_How did you train your model? (Type of optimizer, batch size, epochs, hyperparameters, etc.)_\n"
   ]
  },
  {
   "cell_type": "markdown",
   "metadata": {},
   "source": [
    "**Answer:**\n",
    "### Weight Initialization:  \n",
    " * xavier_initializer (tf.contrib.layers.xavier_initializer())\n",
    " \n",
    "### Optimizer :\n",
    " * **Adam Optimizer**: According to CS231n, I found that Adam Optimizer provides good performance compared to others like RMSProp, Adagrad or Momentum.\n",
    "\n",
    "### Hyper-paramters\n",
    " * EPOCHS = 200\n",
    " * LEARNING_RATE = 0.001\n",
    " * BATCH_SIZE = 256\n",
    " * KEEP_PROP = 0.65           \n",
    " * ACCURATE_THRESHOLD = 0.990 \n",
    " \n",
    "I used dropout (0.65) to avoid overfitting\n"
   ]
  },
  {
   "cell_type": "markdown",
   "metadata": {},
   "source": [
    "### Question 5\n",
    "\n",
    "\n",
    "_What approach did you take in coming up with a solution to this problem? It may have been a process of trial and error, in which case, outline the steps you took to get to the final solution and why you chose those steps. Perhaps your solution involved an already well known implementation or architecture. In this case, discuss why you think this is suitable for the current problem._"
   ]
  },
  {
   "cell_type": "markdown",
   "metadata": {},
   "source": [
    "**Answer:**\n",
    "\n",
    "I mostly researched on how to build a good model architecture. However, I think it is a waste. As Andrej mention in [here](http://cs231n.github.io/convolutional-networks/#comp). \"Don't be a hero\". It is good to see what works best and start from there.\n",
    "\n",
    "I spent most of the time to figure out how many layers should I use, how many filters should be in 1 convolution layer and waiting for it to train! Mostly  by trial and error. Nevertheless, I satisfy with my network performance."
   ]
  },
  {
   "cell_type": "markdown",
   "metadata": {},
   "source": [
    "---\n",
    "\n",
    "## Step 3: Test a Model on New Images\n",
    "\n",
    "Take several pictures of traffic signs that you find on the web or around you (at least five), and run them through your classifier on your computer to produce example results. The classifier might not recognize some local signs but it could prove interesting nonetheless.\n",
    "\n",
    "You may find `signnames.csv` useful as it contains mappings from the class id (integer) to the actual sign name."
   ]
  },
  {
   "cell_type": "markdown",
   "metadata": {},
   "source": [
    "### Implementation\n",
    "\n",
    "Use the code cell (or multiple code cells, if necessary) to implement the first step of your project. Once you have completed your implementation and are satisfied with the results, be sure to thoroughly answer the questions that follow."
   ]
  },
  {
   "cell_type": "code",
   "execution_count": null,
   "metadata": {
    "collapsed": false,
    "scrolled": true
   },
   "outputs": [],
   "source": [
    "### Load the images and plot them here.\n",
    "\n",
    "# Load and resize image\n",
    "import os\n",
    "test_images = []\n",
    "path = '../test_images/'\n",
    "i=1\n",
    "for image in os.listdir(path):\n",
    "    img = cv2.imread(path + image)\n",
    "    img = cv2.resize(img, (32,32))\n",
    "    test_images.append(img)\n",
    "\n",
    "# Place test image in np.array\n",
    "test_images = np.array(test_images)\n",
    "\n",
    "# Display shape of test images\n",
    "print(test_images.shape)"
   ]
  },
  {
   "cell_type": "code",
   "execution_count": null,
   "metadata": {
    "collapsed": false,
    "scrolled": true
   },
   "outputs": [],
   "source": [
    "#Display the image\n",
    "\n",
    "fig = plt.figure()\n",
    "for i, image in enumerate(test_images):\n",
    "    grid = plt.subplot(1,len(test_images),i+1)\n",
    "    grid.imshow(image), plt.axis('off')"
   ]
  },
  {
   "cell_type": "code",
   "execution_count": null,
   "metadata": {
    "collapsed": false,
    "scrolled": true
   },
   "outputs": [],
   "source": [
    "# Use my model to test images\n",
    "test_images = test_images/255\n",
    "softmax_scores = conv_net.predict(test_images, saved_model='./model/traffic-net.chkpt')\n",
    "\n",
    "# From the softmax, I calculated which classID is max.\n",
    "result = np.array([i.argmax() for i in softmax_scores])\n",
    "for i in range(len(result)):\n",
    "    print(signs[result[i]])"
   ]
  },
  {
   "cell_type": "markdown",
   "metadata": {},
   "source": [
    "### Question 6\n",
    "\n",
    "_Choose five candidate images of traffic signs and provide them in the report. Are there any particular qualities of the image(s) that might make classification difficult? It could be helpful to plot the images in the notebook._\n",
    "\n"
   ]
  },
  {
   "cell_type": "markdown",
   "metadata": {},
   "source": [
    "**Answer:**"
   ]
  },
  {
   "cell_type": "code",
   "execution_count": null,
   "metadata": {
    "collapsed": true,
    "scrolled": true
   },
   "outputs": [],
   "source": [
    "### Run the predictions here.\n",
    "### Feel free to use as many code cells as needed."
   ]
  },
  {
   "cell_type": "markdown",
   "metadata": {},
   "source": [
    "### Question 7\n",
    "\n",
    "_Is your model able to perform equally well on captured pictures when compared to testing on the dataset? The simplest way to do this check the accuracy of the predictions. For example, if the model predicted 1 out of 5 signs correctly, it's 20% accurate._\n",
    "\n",
    "_**NOTE:** You could check the accuracy manually by using `signnames.csv` (same directory). This file has a mapping from the class id (0-42) to the corresponding sign name. So, you could take the class id the model outputs, lookup the name in `signnames.csv` and see if it matches the sign from the image._\n"
   ]
  },
  {
   "cell_type": "markdown",
   "metadata": {},
   "source": [
    "**Answer:**"
   ]
  },
  {
   "cell_type": "code",
   "execution_count": null,
   "metadata": {
    "collapsed": true,
    "scrolled": true
   },
   "outputs": [],
   "source": [
    "### Visualize the softmax probabilities here.\n",
    "### Feel free to use as many code cells as needed."
   ]
  },
  {
   "cell_type": "markdown",
   "metadata": {},
   "source": [
    "### Question 8\n",
    "\n",
    "*Use the model's softmax probabilities to visualize the **certainty** of its predictions, [`tf.nn.top_k`](https://www.tensorflow.org/versions/r0.12/api_docs/python/nn.html#top_k) could prove helpful here. Which predictions is the model certain of? Uncertain? If the model was incorrect in its initial prediction, does the correct prediction appear in the top k? (k should be 5 at most)*\n",
    "\n",
    "`tf.nn.top_k` will return the values and indices (class ids) of the top k predictions. So if k=3, for each sign, it'll return the 3 largest probabilities (out of a possible 43) and the correspoding class ids.\n",
    "\n",
    "Take this numpy array as an example:\n",
    "\n",
    "```\n",
    "# (5, 6) array\n",
    "a = np.array([[ 0.24879643,  0.07032244,  0.12641572,  0.34763842,  0.07893497,\n",
    "         0.12789202],\n",
    "       [ 0.28086119,  0.27569815,  0.08594638,  0.0178669 ,  0.18063401,\n",
    "         0.15899337],\n",
    "       [ 0.26076848,  0.23664738,  0.08020603,  0.07001922,  0.1134371 ,\n",
    "         0.23892179],\n",
    "       [ 0.11943333,  0.29198961,  0.02605103,  0.26234032,  0.1351348 ,\n",
    "         0.16505091],\n",
    "       [ 0.09561176,  0.34396535,  0.0643941 ,  0.16240774,  0.24206137,\n",
    "         0.09155967]])\n",
    "```\n",
    "\n",
    "Running it through `sess.run(tf.nn.top_k(tf.constant(a), k=3))` produces:\n",
    "\n",
    "```\n",
    "TopKV2(values=array([[ 0.34763842,  0.24879643,  0.12789202],\n",
    "       [ 0.28086119,  0.27569815,  0.18063401],\n",
    "       [ 0.26076848,  0.23892179,  0.23664738],\n",
    "       [ 0.29198961,  0.26234032,  0.16505091],\n",
    "       [ 0.34396535,  0.24206137,  0.16240774]]), indices=array([[3, 0, 5],\n",
    "       [0, 1, 4],\n",
    "       [0, 5, 1],\n",
    "       [1, 3, 5],\n",
    "       [1, 4, 3]], dtype=int32))\n",
    "```\n",
    "\n",
    "Looking just at the first row we get `[ 0.34763842,  0.24879643,  0.12789202]`, you can confirm these are the 3 largest probabilities in `a`. You'll also notice `[3, 0, 5]` are the corresponding indices."
   ]
  },
  {
   "cell_type": "markdown",
   "metadata": {},
   "source": [
    "**Answer:**"
   ]
  },
  {
   "cell_type": "markdown",
   "metadata": {},
   "source": [
    "> **Note**: Once you have completed all of the code implementations and successfully answered each question above, you may finalize your work by exporting the iPython Notebook as an HTML document. You can do this by using the menu above and navigating to  \\n\",\n",
    "    \"**File -> Download as -> HTML (.html)**. Include the finished document along with this notebook as your submission."
   ]
  },
  {
   "cell_type": "code",
   "execution_count": null,
   "metadata": {
    "collapsed": true,
    "scrolled": true
   },
   "outputs": [],
   "source": []
  }
 ],
 "metadata": {
  "anaconda-cloud": {},
  "kernelspec": {
   "display_name": "Python 3",
   "language": "python",
   "name": "python3"
  },
  "language_info": {
   "codemirror_mode": {
    "name": "ipython",
    "version": 3
   },
   "file_extension": ".py",
   "mimetype": "text/x-python",
   "name": "python",
   "nbconvert_exporter": "python",
   "pygments_lexer": "ipython3",
   "version": "3.5.2"
  }
 },
 "nbformat": 4,
 "nbformat_minor": 0
}
